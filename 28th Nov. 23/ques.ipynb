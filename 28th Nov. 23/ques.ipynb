{
 "cells": [
  {
   "cell_type": "code",
   "execution_count": 4,
   "metadata": {},
   "outputs": [
    {
     "name": "stdout",
     "output_type": "stream",
     "text": [
      "Area of Rectangle  200\n",
      "Perimeter of Rectangle  60\n"
     ]
    }
   ],
   "source": [
    "# Ques.1 Write a FXN to calculate Area and Perimeter of a Rectangle\n",
    "\n",
    "def area_of_rect(l,b):\n",
    "    a = l*b\n",
    "    return a\n",
    "def peri_of_rect(l,b):\n",
    "    c = 2*(l+b)\n",
    "    return c\n",
    "\n",
    "#main code\n",
    "length = int(input('Enter the Length'))\n",
    "breadth = int(input('Enter the Breadth'))\n",
    "area = area_of_rect(length,breadth)\n",
    "peri = peri_of_rect(length,breadth)\n",
    "\n",
    "print(f'Area of Rectangle  {area}')\n",
    "print(f'Perimeter of Rectangle  {peri}')\n"
   ]
  },
  {
   "cell_type": "code",
   "execution_count": 5,
   "metadata": {},
   "outputs": [
    {
     "name": "stdout",
     "output_type": "stream",
     "text": [
      "Area of Circle 9\n",
      "Circumference of Circle  18.84\n"
     ]
    }
   ],
   "source": [
    "# Ques. 2 Fxn to calculate Area and Circumference of a Circle\n",
    "\n",
    "\n",
    "def area_of_circle(r):\n",
    "    a = r*r\n",
    "    return a\n",
    "def circ_of_circle(r):\n",
    "    c = 2 * 3.14 * r\n",
    "    return c\n",
    "\n",
    "#main code\n",
    "radius = int(input('Enter the radius'))\n",
    "area = area_of_circle(radius)\n",
    "circ = circ_of_circle(radius)\n",
    "\n",
    "print(f'Area of Circle {area}')\n",
    "print(f'Circumference of Circle  {circ}')\n",
    "\n"
   ]
  },
  {
   "cell_type": "code",
   "execution_count": 6,
   "metadata": {},
   "outputs": [
    {
     "name": "stdout",
     "output_type": "stream",
     "text": [
      "power of a number 5 raised to 2 is 25\n"
     ]
    }
   ],
   "source": [
    "# Ques. 3 \n",
    "\n",
    "def power(a, b):\n",
    "    s = 1 \n",
    "    for i in range(b):\n",
    "        s*= a\n",
    "    return s\n",
    "\n",
    "num = int(input(\"Enter The Base NO.\"))\n",
    "pw = int(input(\"Enter The Power \"))\n",
    "re = power(num,pw)\n",
    "print(f'power of a number {num} raised to {pw} is {re}')"
   ]
  },
  {
   "cell_type": "code",
   "execution_count": 8,
   "metadata": {},
   "outputs": [
    {
     "name": "stdout",
     "output_type": "stream",
     "text": [
      "power of a number 4 raised to 2 is 16\n"
     ]
    }
   ],
   "source": [
    "# Ques. 3  alternate\n",
    "\n",
    "def power(a, b):\n",
    "    s = a**b\n",
    "    return s\n",
    "\n",
    "num = int(input(\"Enter The Base NO.\"))\n",
    "pw = int(input(\"Enter The Power \"))\n",
    "re = power(num,pw)\n",
    "print(f'power of a number {num} raised to {pw} is {re}')"
   ]
  },
  {
   "cell_type": "code",
   "execution_count": null,
   "metadata": {},
   "outputs": [],
   "source": [
    "# Ques. 4 Eligible to Vote or Not\n",
    "\n",
    "def vote_or_not(age):\n",
    "    if age >=  18:\n",
    "       return True\n",
    "    else:\n",
    "        return False\n",
    "    \n",
    "age = int(input('Enter The Age :'))\n",
    "re = vote_or_not(age)\n",
    "print(re)"
   ]
  },
  {
   "cell_type": "code",
   "execution_count": null,
   "metadata": {},
   "outputs": [],
   "source": [
    "# Ques. 5 Fxn For Even or Odd\n",
    "\n",
    "def even_or_odd(num):\n",
    "    if num%2==0:\n",
    "        return \"No. is Even\"\n",
    "    else:\n",
    "        return \"No. is Odd\"\n",
    "    \n",
    "num = int(input(\"Enter The no.\"))\n",
    "re = even_or_odd(num)\n",
    "print(re)\n"
   ]
  },
  {
   "cell_type": "code",
   "execution_count": 18,
   "metadata": {},
   "outputs": [
    {
     "name": "stdout",
     "output_type": "stream",
     "text": [
      "Is a Prime\n"
     ]
    }
   ],
   "source": [
    "# Ques. 6 Fxn For Prime or not\n",
    "\n",
    "def prime_or_not(num):\n",
    "    s = 0\n",
    "    for i in range(1,num+1):\n",
    "        if num%i== 0:\n",
    "            s+=1\n",
    "    if s==2:\n",
    "        return \"Is a Prime\"\n",
    "    else:\n",
    "        return 'Not a Prime'\n",
    "num = int(input(\"Enter The No.\"))\n",
    "re = prime_or_not(num)\n",
    "print(re)"
   ]
  },
  {
   "cell_type": "code",
   "execution_count": 20,
   "metadata": {},
   "outputs": [
    {
     "name": "stdout",
     "output_type": "stream",
     "text": [
      "Factorial of a given no.4 is 24\n",
      "Do you want Continue Y/N\n",
      "Factorial of a given no.6 is 720\n",
      "Do you want Continue Y/N\n",
      "Factorial of a given no.9 is 362880\n",
      "Do you want Continue Y/N\n",
      "Your All Result{4: 24, 6: 720, 9: 362880}\n"
     ]
    }
   ],
   "source": [
    "# Ques. 7 Fxn For Factorial of a No. (and save the result in Dictionary)\n",
    "\n",
    "def fact(n):\n",
    "    s = 1\n",
    "    for i in range(1,n+1):\n",
    "        s*= i\n",
    "    return s\n",
    "\n",
    "\n",
    "dct = {}\n",
    "while 1:\n",
    "    num = int(input(\"Enter The NO.\"))\n",
    "    out = fact(num)\n",
    "    print(f'Factorial of a given no.{num} is {out}')\n",
    "    dct[num]= out\n",
    "    print('Do you want Continue Y/N')\n",
    "    if input()  != 'Y' :\n",
    "        print(f'Your All Result{dct}')\n",
    "        break\n"
   ]
  },
  {
   "cell_type": "code",
   "execution_count": null,
   "metadata": {},
   "outputs": [],
   "source": [
    "# Ques. Write a python Fxn That Receives list of Integers And Return 1 if all The Integers value are sorted in assc. rder and -1 if they are unsorted\n"
   ]
  },
  {
   "cell_type": "code",
   "execution_count": null,
   "metadata": {},
   "outputs": [],
   "source": []
  },
  {
   "cell_type": "code",
   "execution_count": null,
   "metadata": {},
   "outputs": [],
   "source": []
  },
  {
   "cell_type": "code",
   "execution_count": null,
   "metadata": {},
   "outputs": [],
   "source": []
  },
  {
   "cell_type": "code",
   "execution_count": null,
   "metadata": {},
   "outputs": [],
   "source": []
  }
 ],
 "metadata": {
  "kernelspec": {
   "display_name": "Python 3",
   "language": "python",
   "name": "python3"
  },
  "language_info": {
   "codemirror_mode": {
    "name": "ipython",
    "version": 3
   },
   "file_extension": ".py",
   "mimetype": "text/x-python",
   "name": "python",
   "nbconvert_exporter": "python",
   "pygments_lexer": "ipython3",
   "version": "3.11.6"
  }
 },
 "nbformat": 4,
 "nbformat_minor": 2
}
