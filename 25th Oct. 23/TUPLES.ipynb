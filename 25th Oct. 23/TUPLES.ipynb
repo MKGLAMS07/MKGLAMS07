{
 "cells": [
  {
   "cell_type": "code",
   "execution_count": 15,
   "metadata": {},
   "outputs": [
    {
     "name": "stdout",
     "output_type": "stream",
     "text": [
      "(3, 5, 7, (0, 9, 10)) <class 'tuple'>\n"
     ]
    }
   ],
   "source": [
    "ts = 3 , 5 , 7 ,(0,9,10)\n",
    "print(ts, type(ts))"
   ]
  },
  {
   "cell_type": "code",
   "execution_count": 4,
   "metadata": {},
   "outputs": [
    {
     "name": "stdout",
     "output_type": "stream",
     "text": [
      "0\n"
     ]
    }
   ],
   "source": [
    "ts = (3 , 5 , 7 )\n",
    "x = ts.index(3)\n",
    "print(x)\n"
   ]
  },
  {
   "cell_type": "code",
   "execution_count": 1,
   "metadata": {},
   "outputs": [
    {
     "name": "stdout",
     "output_type": "stream",
     "text": [
      "(1, 2, 3, 4, 5, 6) <class 'tuple'>\n"
     ]
    }
   ],
   "source": []
  },
  {
   "cell_type": "code",
   "execution_count": 12,
   "metadata": {},
   "outputs": [
    {
     "name": "stdout",
     "output_type": "stream",
     "text": [
      "1\n"
     ]
    }
   ],
   "source": [
    "ts = (3 , 5 , 7 )\n",
    "x = ts.count(3)\n",
    "print(x)\n"
   ]
  },
  {
   "cell_type": "code",
   "execution_count": 13,
   "metadata": {},
   "outputs": [
    {
     "name": "stdout",
     "output_type": "stream",
     "text": [
      "a='h'\n",
      "b=['e', 'l', 'l']\n",
      "c='o'\n"
     ]
    }
   ],
   "source": [
    "a , *b , c =  'hello'\n",
    "print(f'{a=}')\n",
    "print(f'{b=}')\n",
    "print(f'{c=}')\n"
   ]
  },
  {
   "cell_type": "code",
   "execution_count": 3,
   "metadata": {},
   "outputs": [
    {
     "name": "stdout",
     "output_type": "stream",
     "text": [
      "a='h'\n",
      "b=['e', 'l', 'l']\n",
      "c='o'\n"
     ]
    }
   ],
   "source": [
    "a , *b , c =  'hello'\n",
    "print(f'{a=}')\n",
    "print(f'{b=}')\n",
    "print(f'{c=}')\n"
   ]
  }
 ],
 "metadata": {
  "kernelspec": {
   "display_name": "Python 3",
   "language": "python",
   "name": "python3"
  },
  "language_info": {
   "codemirror_mode": {
    "name": "ipython",
    "version": 3
   },
   "file_extension": ".py",
   "mimetype": "text/x-python",
   "name": "python",
   "nbconvert_exporter": "python",
   "pygments_lexer": "ipython3",
   "version": "3.11.0"
  }
 },
 "nbformat": 4,
 "nbformat_minor": 2
}
