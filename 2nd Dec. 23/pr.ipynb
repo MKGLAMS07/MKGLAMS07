{
 "cells": [
  {
   "cell_type": "code",
   "execution_count": null,
   "metadata": {},
   "outputs": [],
   "source": [
    "def intersection(ar1,ar2):\n",
    "    pass\n",
    "def union(arr1,arr2):\n",
    "    pass\n",
    "def symmatric_difference(arr1,arr2):\n",
    "    pass\n",
    "\n",
    "ls1=[1,3,6]\n",
    "ls2=[3,8,9,1]\n",
    "re1=intersection[ls1,ls2]\n",
    "print(re1) #[1,3]\n",
    "\n",
    "re2=union(ls1,ls2)\n",
    "print(re2) #[1,3,6,8,9]\n",
    "\n",
    "re3=symmatric_difference(ls1,ls2)\n",
    "print(re3) #[6,8,9]"
   ]
  },
  {
   "cell_type": "code",
   "execution_count": null,
   "metadata": {},
   "outputs": [],
   "source": [
    "def intersection(arr1,arr2):\n",
    "   \n",
    "def union(arr1,arr2):\n",
    "     reg=[]\n",
    "    for i in  arr1+arr2:\n",
    "        if i not in reg:\n",
    "            reg.append(i)\n",
    "    return reg\n",
    "def symmatric_difference(arr1,arr2):\n",
    "    \n",
    "\n",
    "ls1=[1,3,6]\n",
    "ls2=[3,8,9,1]\n",
    "re1=intersection[ls1,ls2]\n",
    "print(re1) #[1,3]\n",
    "\n",
    "re2=union(ls1,ls2)\n",
    "print(re2) #[1,3,6,8,9]\n",
    "\n",
    "re3=symmatric_difference(ls1,ls2)\n",
    "print(re3) #[6,8,9]"
   ]
  },
  {
   "cell_type": "code",
   "execution_count": 7,
   "metadata": {},
   "outputs": [
    {
     "ename": "IndexError",
     "evalue": "list index out of range",
     "output_type": "error",
     "traceback": [
      "\u001b[1;31m---------------------------------------------------------------------------\u001b[0m",
      "\u001b[1;31mIndexError\u001b[0m                                Traceback (most recent call last)",
      "\u001b[1;32mc:\\Users\\kashy\\OneDrive\\Desktop\\PYTHON\\2nd Dec. 23\\pr.ipynb Cell 3\u001b[0m line \u001b[0;36m1\n\u001b[0;32m      <a href='vscode-notebook-cell:/c%3A/Users/kashy/OneDrive/Desktop/PYTHON/2nd%20Dec.%2023/pr.ipynb#W2sZmlsZQ%3D%3D?line=4'>5</a>\u001b[0m     \u001b[39mreturn\u001b[39;00m \u001b[39msorted\u001b[39m(ls1) \u001b[39m==\u001b[39mls1\n\u001b[0;32m      <a href='vscode-notebook-cell:/c%3A/Users/kashy/OneDrive/Desktop/PYTHON/2nd%20Dec.%2023/pr.ipynb#W2sZmlsZQ%3D%3D?line=8'>9</a>\u001b[0m ls\u001b[39m=\u001b[39m[\u001b[39m1\u001b[39m,\u001b[39m4\u001b[39m,\u001b[39m0\u001b[39m,\u001b[39m-\u001b[39m\u001b[39m5\u001b[39m]\n\u001b[1;32m---> <a href='vscode-notebook-cell:/c%3A/Users/kashy/OneDrive/Desktop/PYTHON/2nd%20Dec.%2023/pr.ipynb#W2sZmlsZQ%3D%3D?line=9'>10</a>\u001b[0m out \u001b[39m=\u001b[39m stric_difference(ls)\n\u001b[0;32m     <a href='vscode-notebook-cell:/c%3A/Users/kashy/OneDrive/Desktop/PYTHON/2nd%20Dec.%2023/pr.ipynb#W2sZmlsZQ%3D%3D?line=10'>11</a>\u001b[0m \u001b[39mprint\u001b[39m(ls)\n",
      "\u001b[1;32mc:\\Users\\kashy\\OneDrive\\Desktop\\PYTHON\\2nd Dec. 23\\pr.ipynb Cell 3\u001b[0m line \u001b[0;36m4\n\u001b[0;32m      <a href='vscode-notebook-cell:/c%3A/Users/kashy/OneDrive/Desktop/PYTHON/2nd%20Dec.%2023/pr.ipynb#W2sZmlsZQ%3D%3D?line=1'>2</a>\u001b[0m ls1 \u001b[39m=\u001b[39m[]\n\u001b[0;32m      <a href='vscode-notebook-cell:/c%3A/Users/kashy/OneDrive/Desktop/PYTHON/2nd%20Dec.%2023/pr.ipynb#W2sZmlsZQ%3D%3D?line=2'>3</a>\u001b[0m \u001b[39mfor\u001b[39;00m i \u001b[39min\u001b[39;00m \u001b[39mrange\u001b[39m(\u001b[39mlen\u001b[39m(ls)\u001b[39m-\u001b[39m\u001b[39m1\u001b[39m):\n\u001b[1;32m----> <a href='vscode-notebook-cell:/c%3A/Users/kashy/OneDrive/Desktop/PYTHON/2nd%20Dec.%2023/pr.ipynb#W2sZmlsZQ%3D%3D?line=3'>4</a>\u001b[0m      ls1\u001b[39m.\u001b[39mappend(\u001b[39mabs\u001b[39m(ls1[i]\u001b[39m-\u001b[39mls[i\u001b[39m+\u001b[39m\u001b[39m1\u001b[39m]))\n\u001b[0;32m      <a href='vscode-notebook-cell:/c%3A/Users/kashy/OneDrive/Desktop/PYTHON/2nd%20Dec.%2023/pr.ipynb#W2sZmlsZQ%3D%3D?line=4'>5</a>\u001b[0m \u001b[39mreturn\u001b[39;00m \u001b[39msorted\u001b[39m(ls1) \u001b[39m==\u001b[39mls1\n",
      "\u001b[1;31mIndexError\u001b[0m: list index out of range"
     ]
    }
   ],
   "source": [
    "def stric_difference(ls1):\n",
    "    ls1 =[]\n",
    "    for i in range(len(ls)-1):\n",
    "         ls1.append(abs(ls1[i]-ls[i+1]))\n",
    "    return sorted(ls1) ==ls1\n",
    "\n",
    "\n",
    "\n",
    "ls=[1,4,0,-5]\n",
    "out = stric_difference(ls)\n",
    "print(ls)"
   ]
  },
  {
   "cell_type": "code",
   "execution_count": null,
   "metadata": {},
   "outputs": [],
   "source": []
  },
  {
   "cell_type": "code",
   "execution_count": null,
   "metadata": {},
   "outputs": [],
   "source": []
  },
  {
   "cell_type": "code",
   "execution_count": null,
   "metadata": {},
   "outputs": [],
   "source": []
  }
 ],
 "metadata": {
  "kernelspec": {
   "display_name": "Python 3",
   "language": "python",
   "name": "python3"
  },
  "language_info": {
   "codemirror_mode": {
    "name": "ipython",
    "version": 3
   },
   "file_extension": ".py",
   "mimetype": "text/x-python",
   "name": "python",
   "nbconvert_exporter": "python",
   "pygments_lexer": "ipython3",
   "version": "3.11.6"
  }
 },
 "nbformat": 4,
 "nbformat_minor": 2
}
