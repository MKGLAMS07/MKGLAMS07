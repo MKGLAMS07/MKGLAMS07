{
 "cells": [
  {
   "cell_type": "code",
   "execution_count": 8,
   "metadata": {},
   "outputs": [
    {
     "name": "stdout",
     "output_type": "stream",
     "text": [
      "[('',), (3, 2, 4), ([],)]\n"
     ]
    }
   ],
   "source": [
    "# write a program to remove the empty tuples from a given list of tuples\n",
    "'''lst=[(),(),('', ),(),(3,2,4),([], ),()]\n",
    "\n",
    "# output- [('',),(3,2,4)]\n",
    "for i in lst:\n",
    "    if i==():\n",
    "        lst.remove(i)\n",
    "print(lst)'''\n",
    "\n",
    "lst=[(),(),('', ),(),(3,2,4),([], ),()]\n",
    "for i in range(lst.count(())):\n",
    "    lst.remove(())\n",
    "print(lst)"
   ]
  },
  {
   "cell_type": "code",
   "execution_count": 16,
   "metadata": {},
   "outputs": [
    {
     "name": "stdout",
     "output_type": "stream",
     "text": [
      "['uday', ('',), (3, 2, 4), ([],)]\n"
     ]
    }
   ],
   "source": [
    "lst=[(),(),('', ),(),(3,2,4),([], ),()]\n",
    "a=['uday']\n",
    "for i in lst:\n",
    "    if i!=():\n",
    "        a.append(i)\n",
    "print(a) "
   ]
  },
  {
   "cell_type": "code",
   "execution_count": 23,
   "metadata": {},
   "outputs": [
    {
     "name": "stdout",
     "output_type": "stream",
     "text": [
      "asndjasda\n"
     ]
    }
   ],
   "source": [
    "st='AasndjasAdaASDADSDW'\n",
    "a=('')\n",
    "#ouput- bas uppercase alphabets ko remove karde\n",
    "for i in st:\n",
    "    if i.isupper():\n",
    "        pass\n",
    "    else:\n",
    "        a=a+i\n",
    "print(a)\n"
   ]
  },
  {
   "cell_type": "code",
   "execution_count": 24,
   "metadata": {},
   "outputs": [
    {
     "name": "stdout",
     "output_type": "stream",
     "text": [
      "30\n"
     ]
    }
   ],
   "source": [
    "# wap to print the largest among 3 values\n",
    "a=int(input(''))\n",
    "b=int(input(''))\n",
    "c=int(input(''))\n",
    "print(max(a,b,c))"
   ]
  },
  {
   "cell_type": "code",
   "execution_count": 33,
   "metadata": {},
   "outputs": [
    {
     "name": "stdout",
     "output_type": "stream",
     "text": [
      "5\n"
     ]
    },
    {
     "ename": "",
     "evalue": "",
     "output_type": "error",
     "traceback": [
      "\u001b[1;31mThe Kernel crashed while executing code in the the current cell or a previous cell. Please review the code in the cell(s) to identify a possible cause of the failure. Click <a href='https://aka.ms/vscodeJupyterKernelCrash'>here</a> for more info. View Jupyter <a href='command:jupyter.viewOutput'>log</a> for further details."
     ]
    }
   ],
   "source": [
    "a=list(map(str, input().split( )))\n",
    "print(len(a))\n"
   ]
  },
  {
   "cell_type": "code",
   "execution_count": null,
   "metadata": {},
   "outputs": [],
   "source": []
  }
 ],
 "metadata": {
  "kernelspec": {
   "display_name": "Python 3",
   "language": "python",
   "name": "python3"
  },
  "language_info": {
   "codemirror_mode": {
    "name": "ipython",
    "version": 3
   },
   "file_extension": ".py",
   "mimetype": "text/x-python",
   "name": "python",
   "nbconvert_exporter": "python",
   "pygments_lexer": "ipython3",
   "version": "3.11.0"
  }
 },
 "nbformat": 4,
 "nbformat_minor": 2
}
