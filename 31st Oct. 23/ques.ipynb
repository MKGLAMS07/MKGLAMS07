{
 "cells": [
  {
   "cell_type": "code",
   "execution_count": 3,
   "metadata": {},
   "outputs": [
    {
     "name": "stdout",
     "output_type": "stream",
     "text": [
      "10 20\n",
      "10 30\n",
      "10 40\n",
      "20 30\n",
      "20 40\n",
      "30 40\n"
     ]
    }
   ],
   "source": [
    "#write a list of four where input is provided by the user and make pairs out of it\n",
    "\n",
    "\n",
    "l = list(map(int,input().split()))\n",
    "b=[]\n",
    "for i in range( len(l)):\n",
    "    for j in range(i+1,len(l)):\n",
    "        print(l[i],l[j])"
   ]
  },
  {
   "cell_type": "code",
   "execution_count": 6,
   "metadata": {},
   "outputs": [],
   "source": [
    "#you have given a sorted array/list and a target integer t , design an algoritm to print all the pair to whose sum is equal to target t.\n",
    "l = list(map(int,input().split()))\n",
    "t = input(\"Enter The Target:\")\n",
    "for i in range( len(l)):\n",
    "    for j in range(i+1,len(l)):\n",
    "        if (l[i]+l[j]==t):\n",
    "            print(l[i],l[j])\n",
    "\n",
    "\n"
   ]
  },
  {
   "cell_type": "code",
   "execution_count": 10,
   "metadata": {},
   "outputs": [
    {
     "name": "stdout",
     "output_type": "stream",
     "text": [
      "[10, 202, 303, 400, 4000, 5000, 6000, 7000]\n"
     ]
    }
   ],
   "source": [
    "l1 = list(map(int,input().split()))\n",
    "l2 = list(map(int,input().split()))\n",
    "l3 =l1 + l2\n",
    "l3.sort()\n",
    "print(l3)\n"
   ]
  },
  {
   "cell_type": "code",
   "execution_count": 11,
   "metadata": {},
   "outputs": [
    {
     "name": "stdout",
     "output_type": "stream",
     "text": [
      "[10, 20, 30, 40, 40, 40, 50]\n"
     ]
    }
   ],
   "source": [
    "def bubble_sort(arr):\n",
    "    n = len(arr)\n",
    "    for i in range(n):\n",
    "        for j in range(0, n - i - 1):\n",
    "            if arr[j] > arr[j + 1]:\n",
    "                arr[j], arr[j + 1] = arr[j + 1], arr[j]\n",
    "\n",
    "l1 = list(map(int, input().split()))\n",
    "l2 = list(map(int, input().split()))\n",
    "l3 = l1 + l2  # Concatenate the lists\n",
    "bubble_sort(l3)  # Sort the concatenated list using bubble sort\n",
    "print(l3)  # Print the sorted list\n"
   ]
  }
 ],
 "metadata": {
  "kernelspec": {
   "display_name": "Python 3",
   "language": "python",
   "name": "python3"
  },
  "language_info": {
   "codemirror_mode": {
    "name": "ipython",
    "version": 3
   },
   "file_extension": ".py",
   "mimetype": "text/x-python",
   "name": "python",
   "nbconvert_exporter": "python",
   "pygments_lexer": "ipython3",
   "version": "3.11.0"
  }
 },
 "nbformat": 4,
 "nbformat_minor": 2
}
