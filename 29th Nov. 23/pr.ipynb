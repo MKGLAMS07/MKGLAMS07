{
 "cells": [
  {
   "cell_type": "code",
   "execution_count": null,
   "metadata": {},
   "outputs": [],
   "source": [
    "# type of arguments\n",
    "def add(a:int,b:int)>-int:\n",
    "'I am Manas'\n"
   ]
  },
  {
   "cell_type": "code",
   "execution_count": 7,
   "metadata": {},
   "outputs": [
    {
     "name": "stdout",
     "output_type": "stream",
     "text": [
      "\n",
      "    Name       :ankit\n",
      "    Section    :23\n",
      "    Roll No.   :a\n",
      "    College    :none\n"
     ]
    }
   ],
   "source": [
    "def display_info(name:int, rolln:int , sec:str,clg:str ):\n",
    "    data = f'''\n",
    "    Name       :{dct.get('name')}\n",
    "    Section    :{dct.get('sec')}\n",
    "    Roll No.   :{dct.get('rolln')}\n",
    "    College    :{dct.get('clg')}'''\n",
    "    return data\n",
    "out = display_info('ankit','a',23,'none')\n",
    "print(out)\n",
    "            \n"
   ]
  },
  {
   "cell_type": "code",
   "execution_count": 8,
   "metadata": {},
   "outputs": [
    {
     "name": "stdout",
     "output_type": "stream",
     "text": [
      "\n",
      "    Name       :ankit\n",
      "    Section    :None\n",
      "    Roll No.   :None\n",
      "    College    :None\n"
     ]
    }
   ],
   "source": [
    "def display_info(**dct):\n",
    "    data = f'''\n",
    "    Name       :{dct.get('name')}\n",
    "    Section    :{dct.get('sec')}\n",
    "    Roll No.   :{dct.get('rolln')}\n",
    "    College    :{dct.get('clg')}'''\n",
    "    return data\n",
    "out = display_info(name = 'ankit')\n",
    "print(out)\n",
    "\n",
    "\n",
    "\n",
    "\n",
    "'''are used in registeration for futher fill in'''\n",
    "            \n"
   ]
  },
  {
   "cell_type": "code",
   "execution_count": null,
   "metadata": {},
   "outputs": [],
   "source": []
  },
  {
   "cell_type": "code",
   "execution_count": null,
   "metadata": {},
   "outputs": [],
   "source": []
  },
  {
   "cell_type": "code",
   "execution_count": null,
   "metadata": {},
   "outputs": [],
   "source": []
  }
 ],
 "metadata": {
  "kernelspec": {
   "display_name": "Python 3",
   "language": "python",
   "name": "python3"
  },
  "language_info": {
   "codemirror_mode": {
    "name": "ipython",
    "version": 3
   },
   "file_extension": ".py",
   "mimetype": "text/x-python",
   "name": "python",
   "nbconvert_exporter": "python",
   "pygments_lexer": "ipython3",
   "version": "3.11.6"
  }
 },
 "nbformat": 4,
 "nbformat_minor": 2
}
