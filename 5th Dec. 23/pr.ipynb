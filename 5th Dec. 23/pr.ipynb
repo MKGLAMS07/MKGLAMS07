{
 "cells": [
  {
   "cell_type": "code",
   "execution_count": 3,
   "metadata": {},
   "outputs": [
    {
     "name": "stdout",
     "output_type": "stream",
     "text": [
      "6\n"
     ]
    }
   ],
   "source": [
    "# lamda expression\n",
    "\n",
    "'''\n",
    "\n",
    "syntax ;\n",
    "fun_name = lamda argv:return_expression\n",
    "'''  \n",
    "'''\n",
    "def Add(a,b):\n",
    "    return a+b\n",
    "'''\n",
    "Add = lambda a,b: a + b\n",
    "out = Add(2,4)\n",
    "print(out)\n",
    "# we will not use return in lamda expression"
   ]
  },
  {
   "cell_type": "code",
   "execution_count": 2,
   "metadata": {},
   "outputs": [
    {
     "name": "stdout",
     "output_type": "stream",
     "text": [
      "212.0\n",
      "before sorting, ['manas', 'harsh', 'alok', 'anup']\n",
      "After Sorting ['alok', 'anup', 'harsh', 'manas']\n"
     ]
    }
   ],
   "source": [
    "#write a lamda fxn to convert calciu value into fahrenheit\n",
    "\n",
    "farh = lambda cel:(cel*1.8)+32\n",
    "out = farh(100)\n",
    "print(out)\n",
    "\n",
    "\n",
    "#lambda with sorting\n",
    "\n",
    "ls = ['manas','harsh','alok','anup']\n",
    "print('before sorting,',ls)\n",
    "ls.sort()\n",
    "print('After Sorting',ls)"
   ]
  },
  {
   "cell_type": "code",
   "execution_count": 16,
   "metadata": {},
   "outputs": [
    {
     "name": "stdout",
     "output_type": "stream",
     "text": [
      "before sorting, ['manas', 'harsh', 'alok', 'anup']\n",
      "After Sorting ['manas', 'alok', 'harsh', 'anup']\n"
     ]
    }
   ],
   "source": [
    "#lambda with sorting\n",
    "\n",
    "ls = ['manas','harsh','alok','anup']\n",
    "print('before sorting,',ls)\n",
    "ls.sort(key=lambda st: st[-1])\n",
    "print('After Sorting',ls)"
   ]
  },
  {
   "cell_type": "code",
   "execution_count": 13,
   "metadata": {},
   "outputs": [
    {
     "name": "stdout",
     "output_type": "stream",
     "text": [
      "before sorting, ['manas', 'harsh', 'alok', 'anup']\n",
      "After Sorting ['alok', 'anup', 'manas', 'harsh']\n"
     ]
    }
   ],
   "source": [
    "#lambda with sorting\n",
    "\n",
    "def apna_fxn(st):\n",
    "    s = 0\n",
    "    for i in st:\n",
    "        s += ord(i)\n",
    "    return s\n",
    "\n",
    "\n",
    "ls = ['manas','harsh','alok','anup']\n",
    "print('before sorting,',ls)\n",
    "ls.sort(key=apna_fxn)\n",
    "print('After Sorting',ls)"
   ]
  },
  {
   "cell_type": "code",
   "execution_count": 20,
   "metadata": {},
   "outputs": [
    {
     "name": "stdout",
     "output_type": "stream",
     "text": [
      "before sorting, ['manas', 'harsh', 'alok', 'anup']\n",
      "After Sorting ['alok', 'anup', 'manas', 'harsh']\n"
     ]
    }
   ],
   "source": [
    "ls = ['manas','harsh','alok','anup']\n",
    "print('before sorting,',ls)\n",
    "ls.sort(key=lambda st:sum([ord(i) for i in st]))\n",
    "print('After Sorting',ls)"
   ]
  },
  {
   "cell_type": "code",
   "execution_count": 22,
   "metadata": {},
   "outputs": [
    {
     "name": "stdout",
     "output_type": "stream",
     "text": [
      "before sorting, ['manas', 'harsh', 'alok', 'anup']\n",
      "After Sorting [5, 5, 4, 4]\n"
     ]
    }
   ],
   "source": [
    "ls = ['manas','harsh','alok','anup']\n",
    "print('before sorting,',ls)\n",
    "out = list(map(len,ls))\n",
    "\n",
    "#ls.sort(key=lambda st:sum([ord(i) for i in st]))\n",
    "print('After Sorting',out)"
   ]
  },
  {
   "cell_type": "code",
   "execution_count": 23,
   "metadata": {},
   "outputs": [
    {
     "name": "stdout",
     "output_type": "stream",
     "text": [
      "before sorting, ['manas', 'harsh', 'alok', 'anup']\n",
      "After Sorting ['Manas', 'Harsh', 'Alok', 'Anup']\n"
     ]
    }
   ],
   "source": [
    "ls = ['manas','harsh','alok','anup']\n",
    "print('before sorting,',ls)\n",
    "#out = list(map(len,ls))\n",
    "out = list(map(lambda st: st.capitalize(),ls))\n",
    "\n",
    "#ls.sort(key=lambda st:sum([ord(i) for i in st]))\n",
    "print('After Sorting',out)"
   ]
  },
  {
   "cell_type": "code",
   "execution_count": 25,
   "metadata": {},
   "outputs": [
    {
     "name": "stdout",
     "output_type": "stream",
     "text": [
      "before sorting, ['manas', 'HJGJVJVh', 'alok', 'anup']\n",
      "After Sorting ['MANAS', 'HJGJVJVH', 'ALOK', 'ANUP']\n"
     ]
    }
   ],
   "source": [
    "ls = ['manas','HJGJVJVh','alok','anup']\n",
    "print('before sorting,',ls)\n",
    "#out = list(map(len,ls))\n",
    "out = list(map(lambda st: st.upper(),ls))\n",
    "\n",
    "#ls.sort(key=lambda st:sum([ord(i) for i in st]))\n",
    "print('After Sorting',out)"
   ]
  },
  {
   "cell_type": "code",
   "execution_count": 33,
   "metadata": {},
   "outputs": [
    {
     "name": "stdout",
     "output_type": "stream",
     "text": [
      "before sorting, ['manas', 'HJGJVJVh', 'alok', 'anup']\n",
      "After Sorting ['manas', 'HJGJVJVh', 'alok', 'anup']\n"
     ]
    }
   ],
   "source": [
    "ls = ['manas','HJGJVJVh','alok','anup']\n",
    "print('before sorting,',ls)\n",
    "#out = list(map(len,ls))\n",
    "out = list(map(lambda st: st.removesuffix('HJGJVJVh'),ls))\n",
    "\n",
    "#ls.sort(key=lambda st:sum([ord(i) for i in st]))\n",
    "print('After Sorting',out)"
   ]
  },
  {
   "cell_type": "code",
   "execution_count": 37,
   "metadata": {},
   "outputs": [
    {
     "name": "stdout",
     "output_type": "stream",
     "text": [
      "before mapping, [1, 3, 6, 7]\n",
      "After Mapping [4, 6, 9, 10]\n"
     ]
    }
   ],
   "source": [
    "ls = [1,3,6,7]\n",
    "print('before mapping,',ls)\n",
    "out = list(map(lambda n:n+3,ls))\n",
    "print('After Mapping',out)"
   ]
  },
  {
   "cell_type": "code",
   "execution_count": 40,
   "metadata": {},
   "outputs": [
    {
     "name": "stdout",
     "output_type": "stream",
     "text": [
      "before mapping, [1, 3, 6, 7]\n",
      "After Mapping [False, False, True, False]\n"
     ]
    }
   ],
   "source": [
    "def apna_fxn(x):\n",
    "    return x%2==0\n",
    "\n",
    "\n",
    "\n",
    "ls = [1,3,6,7]\n",
    "print('before mapping,',ls)\n",
    "out = list(map(apna_fxn ,ls))\n",
    "print('After Mapping',out)"
   ]
  },
  {
   "cell_type": "code",
   "execution_count": 43,
   "metadata": {},
   "outputs": [
    {
     "name": "stdout",
     "output_type": "stream",
     "text": [
      "before mapping, [1, 3, 6, 7]\n",
      "After Mapping [6]\n"
     ]
    }
   ],
   "source": [
    "def apna_fxn(x):\n",
    "    return x%2==0\n",
    "\n",
    "\n",
    "\n",
    "ls = [1,3,6,7]\n",
    "print('before mapping,',ls)\n",
    "out = list(filter(apna_fxn ,ls))\n",
    "print('After Mapping',out)"
   ]
  },
  {
   "cell_type": "code",
   "execution_count": 41,
   "metadata": {},
   "outputs": [
    {
     "name": "stdout",
     "output_type": "stream",
     "text": [
      "before mapping, [1, 3, 6, 7]\n",
      "After Mapping [1, 3]\n"
     ]
    }
   ],
   "source": [
    "\n",
    "\n",
    "\n",
    "ls = [1,3,6,7]\n",
    "print('before mapping,',ls)\n",
    "out = list(filter(lambda x:x<=5 ,ls))\n",
    "print('After Mapping',out)"
   ]
  },
  {
   "cell_type": "code",
   "execution_count": 48,
   "metadata": {},
   "outputs": [
    {
     "name": "stdout",
     "output_type": "stream",
     "text": [
      "before mapping, [1, 3, 6, 7]\n",
      "After Mapping [6]\n"
     ]
    }
   ],
   "source": [
    "\n",
    "\n",
    "\n",
    "ls = [1,3,6,7]\n",
    "print('before mapping,',ls)\n",
    "out = list(filter(lambda x:x%2==0 ,ls))\n",
    "print('After Mapping',out)"
   ]
  },
  {
   "cell_type": "code",
   "execution_count": null,
   "metadata": {},
   "outputs": [],
   "source": [
    "def prime_or_not(num):\n",
    "    for i in range(num):\n",
    "        if \n",
    "\n",
    "\n",
    "\n",
    "ls = [1,3,6,7,5,66,7,6,6,7,6,55,6,7,8,8]\n",
    "print('before mapping,',ls)\n",
    "out = list(filter(prime_or_not ,ls))\n",
    "print('After Mapping',out)"
   ]
  },
  {
   "cell_type": "code",
   "execution_count": null,
   "metadata": {},
   "outputs": [],
   "source": [
    "def factorial(num):\n",
    "    \n",
    "\n",
    "\n",
    "\n",
    "ls = [1,3,6,7,5,66,7,6,6,7,6,55,6,7,8,8]\n",
    "print('before mapping,',ls)\n",
    "out = list(filter(factorial ,ls))\n",
    "print('After Mapping',out)"
   ]
  },
  {
   "cell_type": "code",
   "execution_count": null,
   "metadata": {},
   "outputs": [],
   "source": []
  },
  {
   "cell_type": "code",
   "execution_count": null,
   "metadata": {},
   "outputs": [],
   "source": []
  },
  {
   "cell_type": "code",
   "execution_count": null,
   "metadata": {},
   "outputs": [],
   "source": []
  },
  {
   "cell_type": "code",
   "execution_count": null,
   "metadata": {},
   "outputs": [],
   "source": []
  },
  {
   "cell_type": "code",
   "execution_count": null,
   "metadata": {},
   "outputs": [],
   "source": []
  },
  {
   "cell_type": "code",
   "execution_count": null,
   "metadata": {},
   "outputs": [],
   "source": []
  }
 ],
 "metadata": {
  "kernelspec": {
   "display_name": "Python 3",
   "language": "python",
   "name": "python3"
  },
  "language_info": {
   "codemirror_mode": {
    "name": "ipython",
    "version": 3
   },
   "file_extension": ".py",
   "mimetype": "text/x-python",
   "name": "python",
   "nbconvert_exporter": "python",
   "pygments_lexer": "ipython3",
   "version": "3.11.6"
  }
 },
 "nbformat": 4,
 "nbformat_minor": 2
}
